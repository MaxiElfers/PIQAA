{
 "cells": [
  {
   "cell_type": "markdown",
   "metadata": {},
   "source": [
    "# Find hospitals closest to an incident"
   ]
  },
  {
   "cell_type": "markdown",
   "metadata": {},
   "source": [
    "This jupyter notebook constitutes the Exercise Sheet for the first lecture aput the arcgis API for Python.\n",
    "\n",
    "It is build as a 'gap text' challenge, there is a lot of text, code snippets and comments already added. To complete this exercise follow the instructions to build a fully working jupyter notebook. Add comments if necessary. \n",
    "\n",
    "You will use the functions of the network analyst module from the arcgis api for Python to build a solver the finds the route and the distance in kilometers towards the next hospital in Münster. \n",
    "\n",
    "There are two bonus challenges for 2 points each:\n",
    "1. Build a Interactive Input for the Incident Coordinates\n",
    "2. Label the result of the routing with the kilometer distance\n",
    "\n",
    "You will find the details for the bonus challenge in the explanations.\n",
    "\n",
    "There are 10 Points for the exercise and 4 bonus points available.\n",
    "Please remember to write code that is easy readable, well documented and actually working. \n",
    "\n",
    "The `network` module of the ArcGIS API for Python can be used to solve different types of network analysis operations. In this Exercise, we see how to find the hospital that is closest to an incident."
   ]
  },
  {
   "cell_type": "markdown",
   "metadata": {},
   "source": [
    "## Closest facility"
   ]
  },
  {
   "cell_type": "markdown",
   "metadata": {},
   "source": [
    "The closest facility solver provides functionality for finding out the closest locations to a particular input point. This solver would be useful in cases when you have an incident and need to find the closest facility or need to get information on the travel time and the distance to each of the facilities from an incident point for reporting purposes.\n",
    "\n",
    "![](http://desktop.arcgis.com/en/arcmap/latest/extensions/network-analyst/GUID-96C273DB-6A24-4D42-AADA-975A33B44F3D-web.png)\n",
    "\n",
    "When finding closest facilities, you can specify how many to find and whether the direction of travel is toward or away from them. The closest facility solver displays the best routes between incidents and facilities, reports their travel costs, and returns driving directions."
   ]
  },
  {
   "cell_type": "markdown",
   "metadata": {},
   "source": [
    "### Connect to your GIS\n",
    "As a first step, you would need to establish a connection to your organization which could be an ArcGIS Online organization or an ArcGIS Enterprise."
   ]
  },
  {
   "cell_type": "code",
   "execution_count": 42,
   "metadata": {},
   "outputs": [
    {
     "data": {
      "application/vnd.jupyter.widget-view+json": {
       "model_id": "3672c7ecd32f490696f47f9f5dbcd0f6",
       "version_major": 2,
       "version_minor": 0
      },
      "text/plain": [
       "Password(description='Password:')"
      ]
     },
     "metadata": {},
     "output_type": "display_data"
    }
   ],
   "source": [
    "from IPython.display import HTML\n",
    "import pandas as pd\n",
    "from arcgis.gis import GIS\n",
    "\n",
    "#connect to your GIS \n",
    "# please dont enter your password in clear letters, make sure you use getpass\n",
    "#my_gis = GIS(url=, username = , password = )\n",
    "\n",
    "from IPython.display import display\n",
    "from ipywidgets import Password\n",
    "\n",
    "password_widget = Password(description=\"Password:\")\n",
    "display(password_widget)\n"
   ]
  },
  {
   "cell_type": "code",
   "execution_count": 43,
   "metadata": {},
   "outputs": [],
   "source": [
    "# my_gis = GIS(url= \"https://ivv6.maps.arcgis.com/home/index.html\", username = \"melfers_wwu\", password = password_widget.value)\n",
    "my_gis = GIS(\"Home\")"
   ]
  },
  {
   "cell_type": "markdown",
   "metadata": {},
   "source": [
    "### Create a Network Layer\n",
    "To perform any network analysis (such as finding the closest facility, the best route between multiple stops, or service area around a facility), you would need to create a `NetworkLayer` object. In this sample, since we are solving for closest facilities, we need to create a `ClosestFacilityLayer` which is a type of `NetworkLayer`.\n",
    "\n",
    "To create any `NetworkLayer` object, you would need to provide the URL to the appropriate network analysis service. Hence, in this sample, we provide a `ClosestFacility` URL to create a `ClosestFacilityLayer` object. \n",
    "\n",
    "Since all ArcGIS Online organizations already have access to those routing services, you can access this URL through the `GIS` object's `helperServices` property. If you have your own ArcGIS Server based map service with network analysis capability enabled, you would need to provide the URL for this service.\n",
    "\n",
    "Let us start by importing the `network` module"
   ]
  },
  {
   "cell_type": "code",
   "execution_count": 44,
   "metadata": {},
   "outputs": [],
   "source": [
    "import arcgis.network as network"
   ]
  },
  {
   "cell_type": "markdown",
   "metadata": {},
   "source": [
    "Access the analysis URL from the `GIS` object"
   ]
  },
  {
   "cell_type": "code",
   "execution_count": 45,
   "metadata": {},
   "outputs": [
    {
     "data": {
      "text/plain": [
       "'https://route.arcgis.com/arcgis/rest/services/World/ClosestFacility/NAServer/ClosestFacility_World'"
      ]
     },
     "execution_count": 45,
     "metadata": {},
     "output_type": "execute_result"
    }
   ],
   "source": [
    "analysis_url = my_gis.properties.helperServices.closestFacility.url\n",
    "analysis_url"
   ]
  },
  {
   "cell_type": "markdown",
   "metadata": {},
   "source": [
    "Create a `ClosestFacilityLayer` object using this URL\n",
    "\n",
    "See the help for details in Syntax. https://developers.arcgis.com/python/api-reference/arcgis.network.toc.html#closestfacilitylayer"
   ]
  },
  {
   "cell_type": "code",
   "execution_count": 46,
   "metadata": {},
   "outputs": [],
   "source": [
    "cf_layer = network.ClosestFacilityLayer(analysis_url, gis=None)"
   ]
  },
  {
   "cell_type": "markdown",
   "metadata": {},
   "source": [
    "### Create hospitals layer\n",
    "In this sample, we will be looking for the closest hospital (facility) to an incident location. Even though we are interested in finding out the closest one, it would still be helpful to get the information on the distance and travel time to all of them for reference purposes.\n",
    "\n",
    "In the code below, we need to geocode the hospitals' addresses as well as do the reverse geocode for the incident location which has been supplied in the latitude/longitude format.\n",
    "\n",
    "To perform the geocode operations, we import the `geocoding` module of the ArcGIS API."
   ]
  },
  {
   "cell_type": "code",
   "execution_count": 47,
   "metadata": {},
   "outputs": [],
   "source": [
    "from arcgis import geocoding"
   ]
  },
  {
   "cell_type": "markdown",
   "metadata": {},
   "source": [
    "In this sample, we geocode addresses of hospitals to create the facility layer. In your workflows, this could any feature layer. Create a list of hospitals in Münster, Germany"
   ]
  },
  {
   "cell_type": "code",
   "execution_count": 48,
   "metadata": {
    "scrolled": true
   },
   "outputs": [],
   "source": [
    "hospitals_addresses = ['Dorbaumstraße 300, 48157 Münster, Germany',\n",
    "                       'Alexianerweg 9, 48163 Münster, Germany',\n",
    "                       'Westfalenstr. 109, 48165 Münster, Germany',\n",
    "                       'Loerstraße 23, 48143 Münster, Germany',\n",
    "                       'Hohenzollernring 70, 48145 Münster, Germany',\n",
    "                       'Wichernstraße 8, 48147 Münster, Germany',\n",
    "                       'Domagkstr. 5, 48149 Münster, Germany']"
   ]
  },
  {
   "cell_type": "markdown",
   "metadata": {},
   "source": [
    "Loop through each address and geocode it. The geocode operation returns a list of matches for each address. We pick the first result and extract the coordinates from it and construct a `Feature` object out of it. Then we combine all the `Feature`s representing the hospitals into a `FeatureSet` object.\n",
    "\n",
    "Geocoding syntax: https://developers.arcgis.com/python/api-reference/arcgis.geocoding.html#geocode\n",
    "\n",
    "Feature Syntax: https://developers.arcgis.com/python/api-reference/arcgis.features.toc.html#feature\n",
    "\n",
    "Feature Set Syntax: https://developers.arcgis.com/python/api-reference/arcgis.features.toc.html#featureset\n",
    "\n",
    "Hint: Check the structure from the return element of the geocoder to properly construct your feature. Use a loop to run through the list of adresses, add each result feature to a python list and use this python list to build your feature set. While building the feature set, use this as the value for the spatial_reference parameter `{'wkid' : 4326, 'latestWkid': 4326}`"
   ]
  },
  {
   "cell_type": "code",
   "execution_count": 49,
   "metadata": {},
   "outputs": [],
   "source": [
    "from arcgis.features import Feature, FeatureSet"
   ]
  },
  {
   "cell_type": "code",
   "execution_count": 50,
   "metadata": {},
   "outputs": [],
   "source": [
    "hosp_feat_list = []\n",
    "\n",
    "for address in hospitals_addresses:\n",
    "    location = geocoding.geocode(address)[0]\n",
    "    hosp_feat_list.append(Feature(geometry=location['location'], attributes=location['attributes']))\n",
    "    \n"
   ]
  },
  {
   "cell_type": "markdown",
   "metadata": {},
   "source": [
    "Construct a `FeatureSet` using each hospital `Feature`."
   ]
  },
  {
   "cell_type": "code",
   "execution_count": 51,
   "metadata": {},
   "outputs": [],
   "source": [
    "hospitals_fset = FeatureSet(hosp_feat_list)"
   ]
  },
  {
   "cell_type": "markdown",
   "metadata": {},
   "source": [
    "Lets draw our hospitals on a map. To do so, intanciate a gis.map object, focused in Münster. Set the basemap to `arcgis-light-gray`\n",
    "\n",
    "Details about the map widget can be found here https://developers.arcgis.com/python/api-reference/arcgis.gis.toc.html#arcgis.gis.GIS.map\n",
    "use the map.draw() function to add the hospitals to the map. You can use the following value for the 'symbol' parameter: `{\"type\": \"esriSMS\",\"style\": \"esriSMSSquare\",\"color\": [76,115,0,255],\"size\": 8,}`"
   ]
  },
  {
   "cell_type": "code",
   "execution_count": 52,
   "metadata": {},
   "outputs": [],
   "source": [
    "from IPython.display import HTML"
   ]
  },
  {
   "cell_type": "code",
   "execution_count": 53,
   "metadata": {},
   "outputs": [],
   "source": [
    "# instanciate the map\n",
    "map1 = my_gis.map('Münster, Germany', 12)"
   ]
  },
  {
   "cell_type": "code",
   "execution_count": 54,
   "metadata": {},
   "outputs": [
    {
     "data": {
      "application/vnd.jupyter.widget-view+json": {
       "model_id": "e08b5aa3fae24cf0a492aa6d964b380b",
       "version_major": 2,
       "version_minor": 0
      },
      "text/plain": [
       "MapView(layout=Layout(height='400px', width='100%'))"
      ]
     },
     "metadata": {},
     "output_type": "display_data"
    },
    {
     "data": {
      "text/html": [
       "<div class=\"map-static-img-preview-fb9fc60b-454e-4eaa-b717-75af3cd0c78e\"><img src=\"\"></img></div>"
      ],
      "text/plain": [
       "<display.HTML object>"
      ]
     },
     "metadata": {},
     "output_type": "display_data"
    },
    {
     "data": {
      "text/html": [
       "<div class=\"map-html-embed-preview-fb9fc60b-454e-4eaa-b717-75af3cd0c78e\"></div>"
      ],
      "text/plain": [
       "<display.HTML object>"
      ]
     },
     "metadata": {},
     "output_type": "display_data"
    }
   ],
   "source": [
    "# draw the hospitals on the map\n",
    "map1.draw(hospitals_fset, symbol={\"type\": \"esriSMS\",\"style\": \"esriSMSSquare\",\"color\": [76,115,0,255],\"size\": 8,})\n",
    "map1"
   ]
  },
  {
   "cell_type": "markdown",
   "metadata": {},
   "source": [
    "### Create incidents layer\n",
    "Lets use the geocoding.reverse_geocoding function to build an Feature set from the provided incident coordinates. Feel free to use your own coordinates or use the one provided\n",
    "\n",
    "The syntax for the reverse geocoding is here: https://developers.arcgis.com/python/api-reference/arcgis.geocoding.html#reverse-geocode\n",
    "\n",
    "1. Reverse Geocode the coordinates\n",
    "2. build a arcgis.Feature from the result object, using the 'location' from the response object as a parameter for the `geometry` parameter and the 'adress' from the response object for the `attributes` parameter of the Feature.\n",
    "3. Build a Feature set from the one Feature, similar to the feature set for the hospitals. You can use the same spatial_reference parameter"
   ]
  },
  {
   "cell_type": "markdown",
   "metadata": {},
   "source": [
    "## Bonus Challenge: Build an interactive Input for the coordinates\n",
    "for 2 extra points: \n",
    "Open an input form and verify that the input string has the format of XX.XXXX, YY.YYYY\n",
    "\n",
    "Give Feedback to the user if the format is correct or not."
   ]
  },
  {
   "cell_type": "code",
   "execution_count": null,
   "metadata": {},
   "outputs": [],
   "source": []
  },
  {
   "cell_type": "code",
   "execution_count": 55,
   "metadata": {},
   "outputs": [
    {
     "data": {
      "text/plain": [
       "[{\"geometry\": {\"x\": 7.641618030163, \"y\": 51.953028183304, \"spatialReference\": {\"wkid\": 4326, \"latestWkid\": 4326}}, \"attributes\": {\"Match_addr\": \"Dortmunder Stra\\u00dfe 34, 48155, M\\u00fcnster, Mitte-Nordost, Mauritz, Nordrhein-Westfalen\", \"LongLabel\": \"Dortmunder Stra\\u00dfe 34, 48155, M\\u00fcnster, Mitte-Nordost, Mauritz, Nordrhein-Westfalen, DEU\", \"ShortLabel\": \"Dortmunder Stra\\u00dfe 34\", \"Addr_type\": \"PointAddress\", \"Type\": \"\", \"PlaceName\": \"\", \"AddNum\": \"34\", \"Address\": \"Dortmunder Stra\\u00dfe 34\", \"Block\": \"\", \"Sector\": \"\", \"Neighborhood\": \"Mauritz\", \"District\": \"Mitte-Nordost\", \"City\": \"M\\u00fcnster\", \"MetroArea\": \"\", \"Subregion\": \"M\\u00fcnster\", \"Region\": \"Nordrhein-Westfalen\", \"RegionAbbr\": \"NW\", \"Territory\": \"\", \"Postal\": \"48155\", \"PostalExt\": \"\", \"CntryName\": \"Deutschland\", \"CountryCode\": \"DEU\", \"X\": 7.641618030163, \"Y\": 51.953028183304, \"InputX\": 7.641378810646, \"InputY\": 51.953042432539}}]"
      ]
     },
     "execution_count": 55,
     "metadata": {},
     "output_type": "execute_result"
    }
   ],
   "source": [
    "# reverse geocode & build feature\n",
    "import arcgis.geometry as geometry\n",
    "incident_coords = geometry.Point({\"x\":7.641378810646356,\"y\":51.95304243253929})\n",
    "geocode = geocoding.reverse_geocode(incident_coords)\n",
    "\n",
    "feature = [Feature(geometry=geocode['location'], attributes=geocode['address'])]\n",
    "feature"
   ]
  },
  {
   "cell_type": "code",
   "execution_count": 56,
   "metadata": {},
   "outputs": [],
   "source": [
    "# build the incident feature set\n",
    "incident_fset = FeatureSet(feature)"
   ]
  },
  {
   "cell_type": "code",
   "execution_count": 57,
   "metadata": {},
   "outputs": [
    {
     "data": {
      "text/plain": [
       "[{\"geometry\": {\"x\": 7.641618030163, \"y\": 51.953028183304, \"spatialReference\": {\"wkid\": 4326, \"latestWkid\": 4326}}, \"attributes\": {\"Match_addr\": \"Dortmunder Stra\\u00dfe 34, 48155, M\\u00fcnster, Mitte-Nordost, Mauritz, Nordrhein-Westfalen\", \"LongLabel\": \"Dortmunder Stra\\u00dfe 34, 48155, M\\u00fcnster, Mitte-Nordost, Mauritz, Nordrhein-Westfalen, DEU\", \"ShortLabel\": \"Dortmunder Stra\\u00dfe 34\", \"Addr_type\": \"PointAddress\", \"Type\": \"\", \"PlaceName\": \"\", \"AddNum\": \"34\", \"Address\": \"Dortmunder Stra\\u00dfe 34\", \"Block\": \"\", \"Sector\": \"\", \"Neighborhood\": \"Mauritz\", \"District\": \"Mitte-Nordost\", \"City\": \"M\\u00fcnster\", \"MetroArea\": \"\", \"Subregion\": \"M\\u00fcnster\", \"Region\": \"Nordrhein-Westfalen\", \"RegionAbbr\": \"NW\", \"Territory\": \"\", \"Postal\": \"48155\", \"PostalExt\": \"\", \"CntryName\": \"Deutschland\", \"CountryCode\": \"DEU\", \"X\": 7.641618030163, \"Y\": 51.953028183304, \"InputX\": 7.641378810646, \"InputY\": 51.953042432539, \"OBJECTID\": 1}}]"
      ]
     },
     "execution_count": 57,
     "metadata": {},
     "output_type": "execute_result"
    }
   ],
   "source": [
    "# check for the result (this cell does not need to be changed)\n",
    "incident_fset.features"
   ]
  },
  {
   "cell_type": "markdown",
   "metadata": {},
   "source": [
    "Draw the incident Feature Set on the map, using this value for the 'symbol' parameter `{\"type\": \"esriSMS\",\"style\": \"esriSMSCircle\",\"color\": [255,0,0,255],\"size\": 8}`"
   ]
  },
  {
   "cell_type": "code",
   "execution_count": 58,
   "metadata": {},
   "outputs": [
    {
     "data": {
      "application/vnd.jupyter.widget-view+json": {
       "model_id": "e08b5aa3fae24cf0a492aa6d964b380b",
       "version_major": 2,
       "version_minor": 0
      },
      "text/plain": [
       "MapView(layout=Layout(height='400px', width='100%'))"
      ]
     },
     "metadata": {},
     "output_type": "display_data"
    },
    {
     "data": {
      "text/html": [
       "<div class=\"map-static-img-preview-fb9fc60b-454e-4eaa-b717-75af3cd0c78e\"><img src=\"\"></img></div>"
      ],
      "text/plain": [
       "<display.HTML object>"
      ]
     },
     "metadata": {},
     "output_type": "display_data"
    },
    {
     "data": {
      "text/html": [
       "<div class=\"map-html-embed-preview-fb9fc60b-454e-4eaa-b717-75af3cd0c78e\"></div>"
      ],
      "text/plain": [
       "<display.HTML object>"
      ]
     },
     "metadata": {},
     "output_type": "display_data"
    }
   ],
   "source": [
    "# draw the incidents on the existing map widget\n",
    "map1.draw(incident_fset, symbol={\"type\": \"esriSMS\",\"style\": \"esriSMSCircle\",\"color\": [255,115,0,255],\"size\": 8,})\n",
    "map1"
   ]
  },
  {
   "cell_type": "markdown",
   "metadata": {},
   "source": [
    "## Solve for closest hospital\n",
    "Now, you can solve the closest facility layer you created in the beginning. Syntax: https://developers.arcgis.com/python/api-reference/arcgis.network.toc.html#closestfacilitylayer\n",
    "\n",
    "Use your incidents feature set for the `incidents` parameter, your hospital feature set for the `facilities` parameter.\n",
    "\n",
    "Set the `default_target_facility_count` parameter to 1, since we only want to see the routing to the closest hospital\n",
    "\n",
    "Set the remaining attributes in a way that the impedance is set to travel time and the travel distance is added in kilometers\n"
   ]
  },
  {
   "cell_type": "code",
   "execution_count": 59,
   "metadata": {},
   "outputs": [
    {
     "ename": "Exception",
     "evalue": "A general error occurred: 'token'",
     "output_type": "error",
     "traceback": [
      "\u001b[0;31m---------------------------------------------------------------------------\u001b[0m\n\u001b[0;31mException\u001b[0m                                 Traceback (most recent call last)",
      "In  \u001b[0;34m[59]\u001b[0m:\nLine \u001b[0;34m2\u001b[0m:     result = cf_layer.solve_closest_facility(incidents=incident_fset, facilities=hospitals_fset,  default_target_facility_count=\u001b[34mNone\u001b[39;49;00m)\u001b[37m\u001b[39;49;00m\n",
      "File \u001b[0;34mC:\\Program Files\\ArcGIS\\Pro\\bin\\Python\\envs\\arcgispro-py3\\lib\\site-packages\\arcgis\\network\\_layer.py\u001b[0m, in \u001b[0;32msolve_closest_facility\u001b[0m:\nLine \u001b[0;34m1290\u001b[0m:  \u001b[34mif\u001b[39;49;00m \u001b[35mnot\u001b[39;49;00m \u001b[36mself\u001b[39;49;00m.properties.layerType == \u001b[33m\"\u001b[39;49;00m\u001b[33mesriNAServerClosestFacilityLayer\u001b[39;49;00m\u001b[33m\"\u001b[39;49;00m:\u001b[37m\u001b[39;49;00m\n",
      "File \u001b[0;34mC:\\Program Files\\ArcGIS\\Pro\\bin\\Python\\envs\\arcgispro-py3\\lib\\site-packages\\arcgis\\gis\\__init__.py\u001b[0m, in \u001b[0;32mproperties\u001b[0m:\nLine \u001b[0;34m17848\u001b[0m: \u001b[36mself\u001b[39;49;00m._hydrate()\u001b[37m\u001b[39;49;00m\n",
      "File \u001b[0;34mC:\\Program Files\\ArcGIS\\Pro\\bin\\Python\\envs\\arcgispro-py3\\lib\\site-packages\\arcgis\\gis\\__init__.py\u001b[0m, in \u001b[0;32m_hydrate\u001b[0m:\nLine \u001b[0;34m17885\u001b[0m: \u001b[36mself\u001b[39;49;00m._refresh()\u001b[37m\u001b[39;49;00m\n",
      "File \u001b[0;34mC:\\Program Files\\ArcGIS\\Pro\\bin\\Python\\envs\\arcgispro-py3\\lib\\site-packages\\arcgis\\gis\\__init__.py\u001b[0m, in \u001b[0;32m_refresh\u001b[0m:\nLine \u001b[0;34m17836\u001b[0m: \u001b[34mraise\u001b[39;49;00m e\u001b[37m\u001b[39;49;00m\n",
      "File \u001b[0;34mC:\\Program Files\\ArcGIS\\Pro\\bin\\Python\\envs\\arcgispro-py3\\lib\\site-packages\\arcgis\\gis\\__init__.py\u001b[0m, in \u001b[0;32m_refresh\u001b[0m:\nLine \u001b[0;34m17825\u001b[0m: dictdata = \u001b[36mself\u001b[39;49;00m._con.post(\u001b[37m\u001b[39;49;00m\n",
      "File \u001b[0;34mC:\\Program Files\\ArcGIS\\Pro\\bin\\Python\\envs\\arcgispro-py3\\lib\\site-packages\\arcgis\\gis\\_impl\\_con\\_connection.py\u001b[0m, in \u001b[0;32mpost\u001b[0m:\nLine \u001b[0;34m1515\u001b[0m:  \u001b[34mraise\u001b[39;49;00m \u001b[36mException\u001b[39;49;00m(\u001b[33m\"\u001b[39;49;00m\u001b[33mA general error occurred: \u001b[39;49;00m\u001b[33m%s\u001b[39;49;00m\u001b[33m\"\u001b[39;49;00m % e)\u001b[37m\u001b[39;49;00m\n",
      "\u001b[0;31mException\u001b[0m: A general error occurred: 'token'\n\u001b[0;31m---------------------------------------------------------------------------\u001b[0m"
     ]
    }
   ],
   "source": [
    "# solve your closest facillity layer\n",
    "result = cf_layer.solve_closest_facility(incidents=incident_fset, facilities=hospitals_fset,  default_target_facility_count=1)"
   ]
  },
  {
   "cell_type": "markdown",
   "metadata": {},
   "source": [
    "Let us inspect the result dictionary. You will use the content of the `routes` dictionary to create the line to be plotted on the map. you can keep the following 3 Code Cells as is, without doing anything"
   ]
  },
  {
   "cell_type": "code",
   "execution_count": 60,
   "metadata": {},
   "outputs": [
    {
     "ename": "NameError",
     "evalue": "name 'result' is not defined",
     "output_type": "error",
     "traceback": [
      "\u001b[0;31m---------------------------------------------------------------------------\u001b[0m\n\u001b[0;31mNameError\u001b[0m                                 Traceback (most recent call last)",
      "In  \u001b[0;34m[60]\u001b[0m:\nLine \u001b[0;34m1\u001b[0m:     result.keys()\u001b[37m\u001b[39;49;00m\n",
      "\u001b[0;31mNameError\u001b[0m: name 'result' is not defined\n\u001b[0;31m---------------------------------------------------------------------------\u001b[0m"
     ]
    }
   ],
   "source": [
    "result.keys()"
   ]
  },
  {
   "cell_type": "markdown",
   "metadata": {},
   "source": [
    "Let us use the `routes` dictionary to construct line features out of the routes to display on the map"
   ]
  },
  {
   "cell_type": "code",
   "execution_count": null,
   "metadata": {},
   "outputs": [],
   "source": [
    "result['routes'].keys()"
   ]
  },
  {
   "cell_type": "code",
   "execution_count": null,
   "metadata": {},
   "outputs": [],
   "source": [
    "result['routes']['features'][0].keys()"
   ]
  },
  {
   "cell_type": "markdown",
   "metadata": {},
   "source": [
    "From here, you need to continue to modify the code\n",
    "\n",
    "Construct line features out of the routes that are returned. \n",
    "\n",
    "The process is the same as before. \n",
    "\n",
    "Build a `Feature` for each route (there yould only be one)\n",
    "Add this to a result list\n",
    "Build a `FeatureSet` from the list"
   ]
  },
  {
   "cell_type": "code",
   "execution_count": null,
   "metadata": {},
   "outputs": [],
   "source": [
    "# build the list with features\n",
    "line_feat_list = []\n",
    "for line_dict in result['routes']['features']:\n"
   ]
  },
  {
   "cell_type": "code",
   "execution_count": null,
   "metadata": {},
   "outputs": [],
   "source": [
    "# create a feature set\n",
    "routes_fset "
   ]
  },
  {
   "cell_type": "markdown",
   "metadata": {},
   "source": [
    "Add the routes back to the map using the `draw` method of the map widget once again. Make sure to scroll back up to verify the result\n",
    "\n",
    "You can use this value for the symbol parameter `{'type': 'esriSLS', 'style': 'esriSLSSolid','color': [0,0,255,100], 'width': 6}`"
   ]
  },
  {
   "cell_type": "code",
   "execution_count": null,
   "metadata": {},
   "outputs": [],
   "source": [
    "# draw the result to the map"
   ]
  },
  {
   "cell_type": "markdown",
   "metadata": {},
   "source": [
    "## Bonus Challenge \n",
    "for 2 Extra Points: Label the drawn Line with the distance value from the result object"
   ]
  },
  {
   "cell_type": "code",
   "execution_count": null,
   "metadata": {},
   "outputs": [],
   "source": [
    "# optional bonus content"
   ]
  },
  {
   "cell_type": "code",
   "execution_count": null,
   "metadata": {},
   "outputs": [],
   "source": []
  },
  {
   "cell_type": "code",
   "execution_count": null,
   "metadata": {},
   "outputs": [],
   "source": []
  }
 ],
 "metadata": {
  "anaconda-cloud": {},
  "esriNotebookRuntime": {
   "notebookRuntimeName": "ArcGIS Notebook Python 3 Standard",
   "notebookRuntimeVersion": "5.0"
  },
  "kernelspec": {
   "display_name": "ArcGISPro",
   "language": "Python",
   "name": "python3"
  },
  "language_info": {
   "file_extension": ".py",
   "name": "python",
   "version": "3"
  },
  "toc": {
   "base_numbering": 1,
   "nav_menu": {},
   "number_sections": true,
   "sideBar": true,
   "skip_h1_title": false,
   "title_cell": "Table of Contents",
   "title_sidebar": "Contents",
   "toc_cell": true,
   "toc_position": {},
   "toc_section_display": true,
   "toc_window_display": true
  }
 },
 "nbformat": 4,
 "nbformat_minor": 2
}
