{
 "cells": [
  {
   "cell_type": "markdown",
   "metadata": {},
   "source": [
    "# Find hospitals closest to an incident"
   ]
  },
  {
   "cell_type": "markdown",
   "metadata": {},
   "source": [
    "This jupyter notebook constitutes the Exercise Sheet for the first lecture aput the arcgis API for Python.\n",
    "\n",
    "It is build as a 'gap text' challenge, there is a lot of text, code snippets and comments already added. To complete this exercise follow the instructions to build a fully working jupyter notebook. Add comments if necessary. \n",
    "\n",
    "You will use the functions of the network analyst module from the arcgis api for Python to build a solver the finds the route and the distance in kilometers towards the next hospital in Münster. \n",
    "\n",
    "There are two bonus challenges for 2 points each:\n",
    "1. Build a Interactive Input for the Incident Coordinates\n",
    "2. Label the result of the routing with the kilometer distance\n",
    "\n",
    "You will find the details for the bonus challenge in the explanations.\n",
    "\n",
    "There are 10 Points for the exercise and 4 bonus points available.\n",
    "Please remember to write code that is easy readable, well documented and actually working. \n",
    "\n",
    "The `network` module of the ArcGIS API for Python can be used to solve different types of network analysis operations. In this Exercise, we see how to find the hospital that is closest to an incident."
   ]
  },
  {
   "cell_type": "markdown",
   "metadata": {},
   "source": [
    "## Closest facility"
   ]
  },
  {
   "cell_type": "markdown",
   "metadata": {},
   "source": [
    "The closest facility solver provides functionality for finding out the closest locations to a particular input point. This solver would be useful in cases when you have an incident and need to find the closest facility or need to get information on the travel time and the distance to each of the facilities from an incident point for reporting purposes.\n",
    "\n",
    "![](http://desktop.arcgis.com/en/arcmap/latest/extensions/network-analyst/GUID-96C273DB-6A24-4D42-AADA-975A33B44F3D-web.png)\n",
    "\n",
    "When finding closest facilities, you can specify how many to find and whether the direction of travel is toward or away from them. The closest facility solver displays the best routes between incidents and facilities, reports their travel costs, and returns driving directions."
   ]
  },
  {
   "cell_type": "markdown",
   "metadata": {},
   "source": [
    "### Connect to your GIS\n",
    "As a first step, you would need to establish a connection to your organization which could be an ArcGIS Online organization or an ArcGIS Enterprise."
   ]
  },
  {
   "cell_type": "code",
   "execution_count": 1,
   "metadata": {},
   "outputs": [],
   "source": [
    "from IPython.display import HTML\n",
    "import pandas as pd\n",
    "from arcgis.gis import GIS"
   ]
  },
  {
   "cell_type": "markdown",
   "metadata": {},
   "source": [
    "If this Notebook is not run in ArcGIS Pro or no user is connected in ArcGIS Pro please remove the comments from the following code block."
   ]
  },
  {
   "cell_type": "code",
   "execution_count": 2,
   "metadata": {},
   "outputs": [],
   "source": [
    "#from IPython.display import display\n",
    "#from ipywidgets import Password\n",
    "\n",
    "#password_widget = Password(description=\"Password:\")\n",
    "#display(password_widget)"
   ]
  },
  {
   "cell_type": "markdown",
   "metadata": {},
   "source": [
    "If the previous code block was run and a password was entered please use the first line of the next code block and commend out the second line"
   ]
  },
  {
   "cell_type": "code",
   "execution_count": 3,
   "metadata": {},
   "outputs": [],
   "source": [
    "# my_gis = GIS(url= \"https://ivv6.maps.arcgis.com/home/index.html\", username = \"melfers_wwu\", password = password_widget.value)\n",
    "my_gis = GIS(\"Home\")"
   ]
  },
  {
   "cell_type": "markdown",
   "metadata": {},
   "source": [
    "### Create a Network Layer\n",
    "To perform any network analysis (such as finding the closest facility, the best route between multiple stops, or service area around a facility), you would need to create a `NetworkLayer` object. In this sample, since we are solving for closest facilities, we need to create a `ClosestFacilityLayer` which is a type of `NetworkLayer`.\n",
    "\n",
    "To create any `NetworkLayer` object, you would need to provide the URL to the appropriate network analysis service. Hence, in this sample, we provide a `ClosestFacility` URL to create a `ClosestFacilityLayer` object. \n",
    "\n",
    "Since all ArcGIS Online organizations already have access to those routing services, you can access this URL through the `GIS` object's `helperServices` property. If you have your own ArcGIS Server based map service with network analysis capability enabled, you would need to provide the URL for this service.\n",
    "\n",
    "Let us start by importing the `network` module"
   ]
  },
  {
   "cell_type": "code",
   "execution_count": 4,
   "metadata": {},
   "outputs": [],
   "source": [
    "import arcgis.network as network"
   ]
  },
  {
   "cell_type": "markdown",
   "metadata": {},
   "source": [
    "Access the analysis URL from the `GIS` object"
   ]
  },
  {
   "cell_type": "code",
   "execution_count": 5,
   "metadata": {},
   "outputs": [
    {
     "data": {
      "text/plain": [
       "'https://route.arcgis.com/arcgis/rest/services/World/ClosestFacility/NAServer/ClosestFacility_World'"
      ]
     },
     "execution_count": 5,
     "metadata": {},
     "output_type": "execute_result"
    }
   ],
   "source": [
    "analysis_url = my_gis.properties.helperServices.closestFacility.url\n",
    "analysis_url"
   ]
  },
  {
   "cell_type": "markdown",
   "metadata": {},
   "source": [
    "Create a `ClosestFacilityLayer` object using this URL\n",
    "\n",
    "See the help for details in Syntax. https://developers.arcgis.com/python/api-reference/arcgis.network.toc.html#closestfacilitylayer"
   ]
  },
  {
   "cell_type": "code",
   "execution_count": 6,
   "metadata": {},
   "outputs": [],
   "source": [
    "cf_layer = network.ClosestFacilityLayer(analysis_url, gis=my_gis)"
   ]
  },
  {
   "cell_type": "markdown",
   "metadata": {},
   "source": [
    "### Create hospitals layer\n",
    "In this sample, we will be looking for the closest hospital (facility) to an incident location. Even though we are interested in finding out the closest one, it would still be helpful to get the information on the distance and travel time to all of them for reference purposes.\n",
    "\n",
    "In the code below, we need to geocode the hospitals' addresses as well as do the reverse geocode for the incident location which has been supplied in the latitude/longitude format.\n",
    "\n",
    "To perform the geocode operations, we import the `geocoding` module of the ArcGIS API."
   ]
  },
  {
   "cell_type": "code",
   "execution_count": 7,
   "metadata": {},
   "outputs": [],
   "source": [
    "from arcgis import geocoding"
   ]
  },
  {
   "cell_type": "markdown",
   "metadata": {},
   "source": [
    "In this sample, we geocode addresses of hospitals to create the facility layer. In your workflows, this could any feature layer. Create a list of hospitals in Münster, Germany"
   ]
  },
  {
   "cell_type": "code",
   "execution_count": 8,
   "metadata": {
    "scrolled": true
   },
   "outputs": [],
   "source": [
    "hospitals_addresses = ['Dorbaumstraße 300, 48157 Münster, Germany',\n",
    "                       'Alexianerweg 9, 48163 Münster, Germany',\n",
    "                       'Westfalenstr. 109, 48165 Münster, Germany',\n",
    "                       'Loerstraße 23, 48143 Münster, Germany',\n",
    "                       'Hohenzollernring 70, 48145 Münster, Germany',\n",
    "                       'Wichernstraße 8, 48147 Münster, Germany',\n",
    "                       'Domagkstr. 5, 48149 Münster, Germany']"
   ]
  },
  {
   "cell_type": "markdown",
   "metadata": {},
   "source": [
    "Loop through each address and geocode it. The geocode operation returns a list of matches for each address. We pick the first result and extract the coordinates from it and construct a `Feature` object out of it. Then we combine all the `Feature`s representing the hospitals into a `FeatureSet` object.\n",
    "\n",
    "Geocoding syntax: https://developers.arcgis.com/python/api-reference/arcgis.geocoding.html#geocode\n",
    "\n",
    "Feature Syntax: https://developers.arcgis.com/python/api-reference/arcgis.features.toc.html#feature\n",
    "\n",
    "Feature Set Syntax: https://developers.arcgis.com/python/api-reference/arcgis.features.toc.html#featureset\n",
    "\n",
    "Hint: Check the structure from the return element of the geocoder to properly construct your feature. Use a loop to run through the list of adresses, add each result feature to a python list and use this python list to build your feature set. While building the feature set, use this as the value for the spatial_reference parameter `{'wkid' : 4326, 'latestWkid': 4326}`"
   ]
  },
  {
   "cell_type": "code",
   "execution_count": 9,
   "metadata": {},
   "outputs": [],
   "source": [
    "from arcgis.features import Feature, FeatureSet"
   ]
  },
  {
   "cell_type": "code",
   "execution_count": 10,
   "metadata": {},
   "outputs": [],
   "source": [
    "hosp_feat_list = []\n",
    "\n",
    "for address in hospitals_addresses:\n",
    "    # get the location of the hospital\n",
    "    location = geocoding.geocode(address)[0]\n",
    "    # create a Feature object\n",
    "    hosp_feat_list.append(Feature(geometry=location['location'], attributes=location['attributes']))"
   ]
  },
  {
   "cell_type": "markdown",
   "metadata": {},
   "source": [
    "Construct a `FeatureSet` using each hospital `Feature`."
   ]
  },
  {
   "cell_type": "code",
   "execution_count": 11,
   "metadata": {},
   "outputs": [],
   "source": [
    "hospitals_fset = FeatureSet(hosp_feat_list)"
   ]
  },
  {
   "cell_type": "markdown",
   "metadata": {},
   "source": [
    "Lets draw our hospitals on a map. To do so, intanciate a gis.map object, focused in Münster. Set the basemap to `arcgis-light-gray`\n",
    "\n",
    "Details about the map widget can be found here https://developers.arcgis.com/python/api-reference/arcgis.gis.toc.html#arcgis.gis.GIS.map\n",
    "use the map.draw() function to add the hospitals to the map. You can use the following value for the 'symbol' parameter: `{\"type\": \"esriSMS\",\"style\": \"esriSMSSquare\",\"color\": [76,115,0,255],\"size\": 8,}`"
   ]
  },
  {
   "cell_type": "code",
   "execution_count": 12,
   "metadata": {},
   "outputs": [],
   "source": [
    "from IPython.display import HTML"
   ]
  },
  {
   "cell_type": "code",
   "execution_count": 13,
   "metadata": {},
   "outputs": [],
   "source": [
    "# instanciate the map\n",
    "map1 = my_gis.map('Münster, Germany', 12)"
   ]
  },
  {
   "cell_type": "code",
   "execution_count": 14,
   "metadata": {},
   "outputs": [
    {
     "data": {
      "application/vnd.jupyter.widget-view+json": {
       "model_id": "bf0daf3db3294de381f69479e4cfcefd",
       "version_major": 2,
       "version_minor": 0
      },
      "text/plain": [
       "MapView(layout=Layout(height='400px', width='100%'))"
      ]
     },
     "metadata": {},
     "output_type": "display_data"
    },
    {
     "data": {
      "text/html": [
       "<div class=\"map-static-img-preview-8cfbb219-7eb3-49ba-b339-a900e81d6e3b\"><img src=\"\"></img></div>"
      ],
      "text/plain": [
       "<display.HTML object>"
      ]
     },
     "metadata": {},
     "output_type": "display_data"
    },
    {
     "data": {
      "text/html": [
       "<div class=\"map-html-embed-preview-8cfbb219-7eb3-49ba-b339-a900e81d6e3b\"></div>"
      ],
      "text/plain": [
       "<display.HTML object>"
      ]
     },
     "metadata": {},
     "output_type": "display_data"
    }
   ],
   "source": [
    "# draw the hospitals on the map\n",
    "map1.draw(hospitals_fset, symbol={\"type\": \"esriSMS\",\"style\": \"esriSMSSquare\",\"color\": [76,115,0,255],\"size\": 8,})\n",
    "map1"
   ]
  },
  {
   "cell_type": "markdown",
   "metadata": {},
   "source": [
    "### Create incidents layer\n",
    "Lets use the geocoding.reverse_geocoding function to build an Feature set from the provided incident coordinates. Feel free to use your own coordinates or use the one provided\n",
    "\n",
    "The syntax for the reverse geocoding is here: https://developers.arcgis.com/python/api-reference/arcgis.geocoding.html#reverse-geocode\n",
    "\n",
    "1. Reverse Geocode the coordinates\n",
    "2. build a arcgis.Feature from the result object, using the 'location' from the response object as a parameter for the `geometry` parameter and the 'adress' from the response object for the `attributes` parameter of the Feature.\n",
    "3. Build a Feature set from the one Feature, similar to the feature set for the hospitals. You can use the same spatial_reference parameter"
   ]
  },
  {
   "cell_type": "markdown",
   "metadata": {},
   "source": [
    "## Bonus Challenge: Build an interactive Input for the coordinates\n",
    "for 2 extra points: \n",
    "Open an input form and verify that the input string has the format of XX.XXXX, YY.YYYY\n",
    "\n",
    "Give Feedback to the user if the format is correct or not."
   ]
  },
  {
   "cell_type": "code",
   "execution_count": 30,
   "metadata": {},
   "outputs": [],
   "source": [
    "import arcgis.geometry as geometry\n",
    "def validate_input(input_string):\n",
    "    try:\n",
    "        input_array = input_string.split(\",\")\n",
    "        int(input_array[0])\n",
    "        int(input_array[1])\n",
    "        # create a point from the user input\n",
    "        geometry.Point({\"x\":input_array[0],\"y\":input_array[1]})\n",
    "        print(\"Input format is correct.\")\n",
    "        return True\n",
    "    except TypeError: # if the input is not a number\n",
    "        print(\"Input format is incorrect. XX.XXXX and YY.YYYY need to be numbers. Please try again.\")\n",
    "        return False\n",
    "    except IndexError: # if the input does not have two values\n",
    "        print(\"Input format is incorrect. XX.XXXX AND YY.YYYY need to be provided. Please try again.\")\n",
    "        return False\n",
    "    except ValueError: # if the input is not a number\n",
    "        print(\"Input format is incorrect. XX.XXXX and YY.YYYY could not be converted. Please try again.\")\n",
    "        return False\n",
    "    except KeyError: # if the input does not have x and y keys\n",
    "        print(\"Input format is incorrect. XX.XXXX AND YY.YYYY need to be provided. Please try again.\")\n",
    "        return False"
   ]
  },
  {
   "cell_type": "code",
   "execution_count": 33,
   "metadata": {},
   "outputs": [
    {
     "name": "stdout",
     "output_type": "stream",
     "text": [
      "Enter coordinates in format XX.XXXX, YY.YYYY: 6.6666\n",
      "Input format is incorrect. XX.XXXX and YY.YYYY could not be converted. Please try again.\n"
     ]
    }
   ],
   "source": [
    "# Get the user input\n",
    "user_input = input(\"Enter coordinates in format XX.XXXX, YY.YYYY: \")\n",
    "#validate user input and give feedback to the user\n",
    "user_input_correct = validate_input(user_input)"
   ]
  },
  {
   "cell_type": "code",
   "execution_count": 17,
   "metadata": {},
   "outputs": [
    {
     "data": {
      "text/plain": [
       "[{\"geometry\": {\"x\": 7.888825894, \"y\": 51.889329504608, \"spatialReference\": {\"wkid\": 4326, \"latestWkid\": 4326}}, \"attributes\": {\"Match_addr\": \"Hoetmarer Dorfbauerschaft, 48231, Warendorf, Nordrhein-Westfalen\", \"LongLabel\": \"Hoetmarer Dorfbauerschaft, 48231, Warendorf, Nordrhein-Westfalen, DEU\", \"ShortLabel\": \"Hoetmarer Dorfbauerschaft\", \"Addr_type\": \"StreetName\", \"Type\": \"\", \"PlaceName\": \"\", \"AddNum\": \"\", \"Address\": \"Hoetmarer Dorfbauerschaft\", \"Block\": \"\", \"Sector\": \"\", \"Neighborhood\": \"\", \"District\": \"\", \"City\": \"Warendorf\", \"MetroArea\": \"\", \"Subregion\": \"Warendorf\", \"Region\": \"Nordrhein-Westfalen\", \"RegionAbbr\": \"NW\", \"Territory\": \"\", \"Postal\": \"48231\", \"PostalExt\": \"\", \"CntryName\": \"Deutschland\", \"CountryCode\": \"DEU\", \"X\": 7.888825894, \"Y\": 51.889329504608, \"InputX\": 7.8888, \"InputY\": 51.88888}}]"
      ]
     },
     "execution_count": 17,
     "metadata": {},
     "output_type": "execute_result"
    }
   ],
   "source": [
    "# reverse geocode & build feature\n",
    "import arcgis.geometry as geometry\n",
    "# if user input is valid, use it, otherwise use default coordinates\n",
    "if user_input_correct:\n",
    "    point = user_input.split(\",\")\n",
    "    incident_coords = geometry.Point({\"x\":point[0],\"y\":point[1]}) # user input coordinates\n",
    "else:\n",
    "    incident_coords = geometry.Point({\"x\":7.641378810646356,\"y\":51.95304243253929}) # Default coordinates\n",
    "\n",
    "# reverse geocode the coordinates\n",
    "geocode = geocoding.reverse_geocode(incident_coords)\n",
    "\n",
    "# create a feature based on the reverse geocode\n",
    "feature = [Feature(geometry=geocode['location'], attributes=geocode['address'])]\n",
    "feature"
   ]
  },
  {
   "cell_type": "code",
   "execution_count": 18,
   "metadata": {},
   "outputs": [],
   "source": [
    "# build the incident feature set\n",
    "incident_fset = FeatureSet(feature)"
   ]
  },
  {
   "cell_type": "code",
   "execution_count": 19,
   "metadata": {},
   "outputs": [
    {
     "data": {
      "text/plain": [
       "[{\"geometry\": {\"x\": 7.888825894, \"y\": 51.889329504608, \"spatialReference\": {\"wkid\": 4326, \"latestWkid\": 4326}}, \"attributes\": {\"Match_addr\": \"Hoetmarer Dorfbauerschaft, 48231, Warendorf, Nordrhein-Westfalen\", \"LongLabel\": \"Hoetmarer Dorfbauerschaft, 48231, Warendorf, Nordrhein-Westfalen, DEU\", \"ShortLabel\": \"Hoetmarer Dorfbauerschaft\", \"Addr_type\": \"StreetName\", \"Type\": \"\", \"PlaceName\": \"\", \"AddNum\": \"\", \"Address\": \"Hoetmarer Dorfbauerschaft\", \"Block\": \"\", \"Sector\": \"\", \"Neighborhood\": \"\", \"District\": \"\", \"City\": \"Warendorf\", \"MetroArea\": \"\", \"Subregion\": \"Warendorf\", \"Region\": \"Nordrhein-Westfalen\", \"RegionAbbr\": \"NW\", \"Territory\": \"\", \"Postal\": \"48231\", \"PostalExt\": \"\", \"CntryName\": \"Deutschland\", \"CountryCode\": \"DEU\", \"X\": 7.888825894, \"Y\": 51.889329504608, \"InputX\": 7.8888, \"InputY\": 51.88888, \"OBJECTID\": 1}}]"
      ]
     },
     "execution_count": 19,
     "metadata": {},
     "output_type": "execute_result"
    }
   ],
   "source": [
    "# check for the result (this cell does not need to be changed)\n",
    "incident_fset.features"
   ]
  },
  {
   "cell_type": "markdown",
   "metadata": {},
   "source": [
    "Draw the incident Feature Set on the map, using this value for the 'symbol' parameter `{\"type\": \"esriSMS\",\"style\": \"esriSMSCircle\",\"color\": [255,0,0,255],\"size\": 8}`"
   ]
  },
  {
   "cell_type": "code",
   "execution_count": 20,
   "metadata": {},
   "outputs": [
    {
     "data": {
      "application/vnd.jupyter.widget-view+json": {
       "model_id": "bf0daf3db3294de381f69479e4cfcefd",
       "version_major": 2,
       "version_minor": 0
      },
      "text/plain": [
       "MapView(jupyter_target='notebook', layout=Layout(height='400px', width='100%'), ready=True)"
      ]
     },
     "metadata": {},
     "output_type": "display_data"
    },
    {
     "data": {
      "text/html": [
       "<div class=\"map-static-img-preview-8cfbb219-7eb3-49ba-b339-a900e81d6e3b\"><img src=\"\"></img></div>"
      ],
      "text/plain": [
       "<display.HTML object>"
      ]
     },
     "metadata": {},
     "output_type": "display_data"
    },
    {
     "data": {
      "text/html": [
       "<div class=\"map-html-embed-preview-8cfbb219-7eb3-49ba-b339-a900e81d6e3b\"></div>"
      ],
      "text/plain": [
       "<display.HTML object>"
      ]
     },
     "metadata": {},
     "output_type": "display_data"
    }
   ],
   "source": [
    "# draw the incidents on the existing map widget\n",
    "map1.draw(incident_fset, symbol={\"type\": \"esriSMS\",\"style\": \"esriSMSCircle\",\"color\": [255,115,0,255],\"size\": 8,})\n",
    "map1"
   ]
  },
  {
   "cell_type": "markdown",
   "metadata": {},
   "source": [
    "## Solve for closest hospital\n",
    "Now, you can solve the closest facility layer you created in the beginning. Syntax: https://developers.arcgis.com/python/api-reference/arcgis.network.toc.html#closestfacilitylayer\n",
    "\n",
    "Use your incidents feature set for the `incidents` parameter, your hospital feature set for the `facilities` parameter.\n",
    "\n",
    "Set the `default_target_facility_count` parameter to 1, since we only want to see the routing to the closest hospital\n",
    "\n",
    "Set the remaining attributes in a way that the impedance is set to travel time and the travel distance is added in kilometers\n"
   ]
  },
  {
   "cell_type": "code",
   "execution_count": 21,
   "metadata": {},
   "outputs": [],
   "source": [
    "# solve your closest facillity layer\n",
    "result = cf_layer.solve_closest_facility(incidents=incident_fset, facilities=hospitals_fset,  default_target_facility_count=1)"
   ]
  },
  {
   "cell_type": "markdown",
   "metadata": {},
   "source": [
    "Let us inspect the result dictionary. You will use the content of the `routes` dictionary to create the line to be plotted on the map. you can keep the following 3 Code Cells as is, without doing anything"
   ]
  },
  {
   "cell_type": "code",
   "execution_count": 22,
   "metadata": {},
   "outputs": [
    {
     "data": {
      "text/plain": [
       "dict_keys(['requestID', 'routes', 'messages'])"
      ]
     },
     "execution_count": 22,
     "metadata": {},
     "output_type": "execute_result"
    }
   ],
   "source": [
    "result.keys()"
   ]
  },
  {
   "cell_type": "markdown",
   "metadata": {},
   "source": [
    "Let us use the `routes` dictionary to construct line features out of the routes to display on the map"
   ]
  },
  {
   "cell_type": "code",
   "execution_count": 23,
   "metadata": {},
   "outputs": [
    {
     "data": {
      "text/plain": [
       "dict_keys(['fieldAliases', 'geometryType', 'spatialReference', 'fields', 'features'])"
      ]
     },
     "execution_count": 23,
     "metadata": {},
     "output_type": "execute_result"
    }
   ],
   "source": [
    "result['routes'].keys()"
   ]
  },
  {
   "cell_type": "code",
   "execution_count": 24,
   "metadata": {},
   "outputs": [
    {
     "data": {
      "text/plain": [
       "dict_keys(['attributes', 'geometry'])"
      ]
     },
     "execution_count": 24,
     "metadata": {},
     "output_type": "execute_result"
    }
   ],
   "source": [
    "result['routes']['features'][0].keys()"
   ]
  },
  {
   "cell_type": "markdown",
   "metadata": {},
   "source": [
    "From here, you need to continue to modify the code\n",
    "\n",
    "Construct line features out of the routes that are returned. \n",
    "\n",
    "The process is the same as before. \n",
    "\n",
    "Build a `Feature` for each route (there yould only be one)\n",
    "Add this to a result list\n",
    "Build a `FeatureSet` from the list"
   ]
  },
  {
   "cell_type": "code",
   "execution_count": 25,
   "metadata": {},
   "outputs": [],
   "source": [
    "# build the list with features\n",
    "line_feat_list = []\n",
    "for line_dict in result['routes']['features']:\n",
    "    # create a Feature object\n",
    "    feat = Feature(geometry=line_dict['geometry'], attributes=line_dict['attributes'])\n",
    "    line_feat_list.append(feat)\n"
   ]
  },
  {
   "cell_type": "code",
   "execution_count": 26,
   "metadata": {},
   "outputs": [],
   "source": [
    "# create a feature set\n",
    "routes_fset = FeatureSet(line_feat_list)"
   ]
  },
  {
   "cell_type": "markdown",
   "metadata": {},
   "source": [
    "Add the routes back to the map using the `draw` method of the map widget once again. Make sure to scroll back up to verify the result\n",
    "\n",
    "You can use this value for the symbol parameter `{'type': 'esriSLS', 'style': 'esriSLSSolid','color': [0,0,255,100], 'width': 6}`"
   ]
  },
  {
   "cell_type": "code",
   "execution_count": 27,
   "metadata": {},
   "outputs": [
    {
     "data": {
      "application/vnd.jupyter.widget-view+json": {
       "model_id": "bf0daf3db3294de381f69479e4cfcefd",
       "version_major": 2,
       "version_minor": 0
      },
      "text/plain": [
       "MapView(jupyter_target='notebook', layout=Layout(height='400px', width='100%'), ready=True)"
      ]
     },
     "metadata": {},
     "output_type": "display_data"
    },
    {
     "data": {
      "text/html": [
       "<div class=\"map-static-img-preview-8cfbb219-7eb3-49ba-b339-a900e81d6e3b\"><img src=\"\"></img></div>"
      ],
      "text/plain": [
       "<display.HTML object>"
      ]
     },
     "metadata": {},
     "output_type": "display_data"
    },
    {
     "data": {
      "text/html": [
       "<div class=\"map-html-embed-preview-8cfbb219-7eb3-49ba-b339-a900e81d6e3b\"></div>"
      ],
      "text/plain": [
       "<display.HTML object>"
      ]
     },
     "metadata": {},
     "output_type": "display_data"
    }
   ],
   "source": [
    "# draw the result to the map\n",
    "map1.draw(routes_fset, symbol={'type': 'esriSLS', 'style': 'esriSLSSolid','color': [0,0,255,100], 'width': 6})\n",
    "map1"
   ]
  },
  {
   "cell_type": "markdown",
   "metadata": {},
   "source": [
    "## Bonus Challenge \n",
    "for 2 Extra Points: Label the drawn Line with the distance value from the result object"
   ]
  },
  {
   "cell_type": "code",
   "execution_count": null,
   "metadata": {},
   "outputs": [],
   "source": [
    "# optional bonus content"
   ]
  },
  {
   "cell_type": "code",
   "execution_count": null,
   "metadata": {},
   "outputs": [],
   "source": []
  },
  {
   "cell_type": "code",
   "execution_count": null,
   "metadata": {},
   "outputs": [],
   "source": []
  }
 ],
 "metadata": {
  "anaconda-cloud": {},
  "esriNotebookRuntime": {
   "notebookRuntimeName": "ArcGIS Notebook Python 3 Standard",
   "notebookRuntimeVersion": "5.0"
  },
  "kernelspec": {
   "display_name": "ArcGISPro",
   "language": "Python",
   "name": "python3"
  },
  "language_info": {
   "file_extension": ".py",
   "name": "python",
   "version": "3"
  },
  "toc": {
   "base_numbering": 1,
   "nav_menu": {},
   "number_sections": true,
   "sideBar": true,
   "skip_h1_title": false,
   "title_cell": "Table of Contents",
   "title_sidebar": "Contents",
   "toc_cell": true,
   "toc_position": {},
   "toc_section_display": true,
   "toc_window_display": true
  }
 },
 "nbformat": 4,
 "nbformat_minor": 2
}
